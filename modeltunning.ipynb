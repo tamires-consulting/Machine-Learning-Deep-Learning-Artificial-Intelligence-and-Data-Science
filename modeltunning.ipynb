{
 "cells": [
  {
   "cell_type": "code",
   "execution_count": 19,
   "metadata": {},
   "outputs": [],
   "source": [
    "#synthetic dataset\n",
    "import numpy as np\n",
    "import matplotlib.pyplot as plt\n",
    "from sklearn.model_selection import train_test_split\n",
    "validation_size = 0.2\n",
    "seed = 7\n",
    "X = 2 - 3 * np.random.normal(0, 1, 20)\n",
    "Y = X - 2 * (X ** 2) + 0.5 * (X ** 3) + np.exp(-X)+np.random.normal(-3, 3, 20)\n",
    "X = X[:, np.newaxis]\n",
    "Y = Y[:, np.newaxis]\n",
    "X_train, X_test, Y_train, Y_test = train_test_split(X, Y,\\\n",
    "test_size=validation_size, random_state=seed)\n"
   ]
  },
  {
   "cell_type": "code",
   "execution_count": 20,
   "metadata": {},
   "outputs": [
    {
     "name": "stdout",
     "output_type": "stream",
     "text": [
      "RMSE for Linear Regression: 6.00805499029746\n",
      "RMSE for Polynomial Regression: 5.729850825655176\n"
     ]
    }
   ],
   "source": [
    "from sklearn.linear_model import LinearRegression\n",
    "from sklearn.metrics import mean_squared_error, r2_score\n",
    "from sklearn.preprocessing import PolynomialFeatures\n",
    "model = LinearRegression()\n",
    "model.fit(X_train, Y_train)\n",
    "Y_pred = model.predict(X_train)\n",
    "rmse_lin = np.sqrt(mean_squared_error(Y_train,Y_pred))\n",
    "r2_lin = r2_score(Y_train,Y_pred)\n",
    "print(\"RMSE for Linear Regression:\", rmse_lin)\n",
    "polynomial_features= PolynomialFeatures(degree=2)\n",
    "x_poly = polynomial_features.fit_transform(X_train)\n",
    "model = LinearRegression()\n",
    "model.fit(x_poly, Y_train)\n",
    "Y_poly_pred = model.predict(x_poly)\n",
    "rmse = np.sqrt(mean_squared_error(Y_train,Y_poly_pred))\n",
    "r2 = r2_score(Y_train,Y_poly_pred)\n",
    "print(\"RMSE for Polynomial Regression:\", rmse)"
   ]
  },
  {
   "cell_type": "code",
   "execution_count": 29,
   "metadata": {},
   "outputs": [
    {
     "data": {
      "image/png": "[encoded data removed]",
      "text/plain": [
       "<Figure size 432x288 with 1 Axes>"
      ]
     },
     "metadata": {
      "needs_background": "light"
     },
     "output_type": "display_data"
    }
   ],
   "source": [
    "Deg= [1,2,3,6,10]\n",
    "results=[]\n",
    "names=[]\n",
    "for deg in Deg:\n",
    "    polynomial_features= PolynomialFeatures(degree=deg)\n",
    "    x_poly = polynomial_features.fit_transform(X_train)\n",
    "    model = LinearRegression()\n",
    "    model.fit(x_poly, Y_train)\n",
    "    Y_poly_pred = model.predict(x_poly)\n",
    "    rmse = np.sqrt(mean_squared_error(Y_train,Y_poly_pred))\n",
    "    r2 = r2_score(Y_train,Y_poly_pred)\n",
    "    results.append(rmse)\n",
    "    names.append(deg)\n",
    "    plt.plot(names, results,'o')\n",
    "    plt.suptitle('Algorithm Comparison')\n",
    "    plt.xlabel('degree')\n",
    "    plt.ylabel('RMSE-Root Mean Squared Error')"
   ]
  },
  {
   "cell_type": "code",
   "execution_count": 28,
   "metadata": {},
   "outputs": [
    {
     "data": {
      "text/plain": [
       "Text(0, 0.5, 'RMSE-Root Mean Squared Error')"
      ]
     },
     "execution_count": 28,
     "metadata": {},
     "output_type": "execute_result"
    },
    {
     "data": {
      "image/png": "[encoded data removed]",
      "text/plain": [
       "<Figure size 432x288 with 1 Axes>"
      ]
     },
     "metadata": {
      "needs_background": "light"
     },
     "output_type": "display_data"
    }
   ],
   "source": [
    "Deg= [1,2,3,6,10]\n",
    "results=[]\n",
    "names=[]\n",
    "for deg in Deg:\n",
    "    polynomial_features= PolynomialFeatures(degree=deg)\n",
    "    x_poly = polynomial_features.fit_transform(X_train)\n",
    "    model = LinearRegression()\n",
    "    model.fit(x_poly, Y_train)\n",
    "    Y_poly_pred = model.predict(x_poly)\n",
    "    rmse = np.sqrt(mean_squared_error(Y_train,Y_poly_pred))\n",
    "    r2 = r2_score(Y_train,Y_poly_pred)\n",
    "    results.append(rmse)\n",
    "    names.append(deg)\n",
    "plt.plot(names, results,'o')\n",
    "plt.suptitle('Algorithm Comparison')\n",
    "plt.xlabel('degree')\n",
    "plt.ylabel('RMSE-Root Mean Squared Error')"
   ]
  },
  {
   "cell_type": "code",
   "execution_count": 26,
   "metadata": {},
   "outputs": [
    {
     "data": {
      "text/plain": [
       "Text(0, 0.5, 'RMSE')"
      ]
     },
     "execution_count": 26,
     "metadata": {},
     "output_type": "execute_result"
    },
    {
     "data": {
      "image/png": "[encoded data removed]",
      "text/plain": [
       "<Figure size 432x288 with 1 Axes>"
      ]
     },
     "metadata": {
      "needs_background": "light"
     },
     "output_type": "display_data"
    }
   ],
   "source": [
    "Deg= [1,2,3,6,8,10]\n",
    "results_test=[]\n",
    "names_test=[]\n",
    "\n",
    "for deg in Deg:\n",
    "    \n",
    "    polynomial_features= PolynomialFeatures(degree=deg)\n",
    "    x_poly = polynomial_features.fit_transform(X_train)\n",
    "    model = LinearRegression()\n",
    "    model.fit(x_poly, Y_train)\n",
    "    x_poly_test = polynomial_features.fit_transform(X_test)\n",
    "    Y_poly_pred_test = model.predict(x_poly_test)\n",
    "    rmse = np.sqrt(mean_squared_error(Y_test,Y_poly_pred_test))\n",
    "    r2 = r2_score(Y_test,Y_poly_pred_test)\n",
    "    results_test.append(rmse)\n",
    "    names_test.append(deg)\n",
    "plt.plot(names_test, results_test,'o')\n",
    "plt.suptitle('Algorithm Comparison')\n",
    "plt.xlabel('degree')\n",
    "plt.ylabel('RMSE')"
   ]
  },
  {
   "cell_type": "code",
   "execution_count": null,
   "metadata": {},
   "outputs": [],
   "source": []
  },
  {
   "cell_type": "code",
   "execution_count": null,
   "metadata": {},
   "outputs": [],
   "source": []
  }
 ],
 "metadata": {
  "kernelspec": {
   "display_name": "Python 3",
   "language": "python",
   "name": "python3"
  },
  "language_info": {
   "codemirror_mode": {
    "name": "ipython",
    "version": 3
   },
   "file_extension": ".py",
   "mimetype": "text/x-python",
   "name": "python",
   "nbconvert_exporter": "python",
   "pygments_lexer": "ipython3",
   "version": "3.7.6"
  }
 },
 "nbformat": 4,
 "nbformat_minor": 4
}
